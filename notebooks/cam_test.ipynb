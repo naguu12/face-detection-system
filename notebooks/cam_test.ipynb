{
 "cells": [
  {
   "cell_type": "code",
   "execution_count": null,
   "id": "9aeebfb7",
   "metadata": {},
   "outputs": [],
   "source": [
    "import cv2\n",
    "from PIL import Image\n",
    "from IPython.display import display, clear_output\n",
    "import time\n",
    "\n",
    "# Dirección RTSP de la cámara (modificá esta línea con tus datos reales de usuario, IP y puerto)\n",
    "url = \"rtsp://usuario:contraseña@IP:PUERTO/stream1\"\n",
    "cap = cv2.VideoCapture(url)\n",
    "\n",
    "if not cap.isOpened():\n",
    "    print(\"❌ No se pudo conectar al stream.\")\n",
    "else:\n",
    "    print(\"✅ Stream en vivo. Presioná Stop cuando quieras frenar.\")\n",
    "    try:\n",
    "        for _ in range(100):  # Cambiá este número para más frames\n",
    "            ret, frame = cap.read()\n",
    "            if not ret:\n",
    "                print(\"⚠️ No se pudo leer el fotograma.\")\n",
    "                break\n",
    "\n",
    "            img_rgb = cv2.cvtColor(frame, cv2.COLOR_BGR2RGB)\n",
    "            pil_img = Image.fromarray(img_rgb)\n",
    "\n",
    "            clear_output(wait=True)\n",
    "            display(pil_img)\n",
    "            time.sleep(0.1)  # Controla la velocidad del \"video\"\n",
    "\n",
    "    finally:\n",
    "        cap.release()"
   ]
  }
 ],
 "metadata": {
  "language_info": {
   "name": "python"
  }
 },
 "nbformat": 4,
 "nbformat_minor": 5
}
